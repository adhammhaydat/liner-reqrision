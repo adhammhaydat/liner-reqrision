{
 "cells": [
  {
   "cell_type": "code",
   "execution_count": 8,
   "metadata": {},
   "outputs": [
    {
     "data": {
      "text/html": [
       "<div>\n",
       "<style scoped>\n",
       "    .dataframe tbody tr th:only-of-type {\n",
       "        vertical-align: middle;\n",
       "    }\n",
       "\n",
       "    .dataframe tbody tr th {\n",
       "        vertical-align: top;\n",
       "    }\n",
       "\n",
       "    .dataframe thead th {\n",
       "        text-align: right;\n",
       "    }\n",
       "</style>\n",
       "<table border=\"1\" class=\"dataframe\">\n",
       "  <thead>\n",
       "    <tr style=\"text-align: right;\">\n",
       "      <th></th>\n",
       "      <th>gender</th>\n",
       "      <th>race/ethnicity</th>\n",
       "      <th>parental level of education</th>\n",
       "      <th>lunch</th>\n",
       "      <th>test preparation course</th>\n",
       "      <th>math score</th>\n",
       "      <th>reading score</th>\n",
       "      <th>writing score</th>\n",
       "    </tr>\n",
       "  </thead>\n",
       "  <tbody>\n",
       "    <tr>\n",
       "      <th>0</th>\n",
       "      <td>female</td>\n",
       "      <td>group B</td>\n",
       "      <td>bachelor's degree</td>\n",
       "      <td>standard</td>\n",
       "      <td>none</td>\n",
       "      <td>72</td>\n",
       "      <td>72</td>\n",
       "      <td>74</td>\n",
       "    </tr>\n",
       "    <tr>\n",
       "      <th>1</th>\n",
       "      <td>female</td>\n",
       "      <td>group C</td>\n",
       "      <td>some college</td>\n",
       "      <td>standard</td>\n",
       "      <td>completed</td>\n",
       "      <td>69</td>\n",
       "      <td>90</td>\n",
       "      <td>88</td>\n",
       "    </tr>\n",
       "    <tr>\n",
       "      <th>2</th>\n",
       "      <td>female</td>\n",
       "      <td>group B</td>\n",
       "      <td>master's degree</td>\n",
       "      <td>standard</td>\n",
       "      <td>none</td>\n",
       "      <td>90</td>\n",
       "      <td>95</td>\n",
       "      <td>93</td>\n",
       "    </tr>\n",
       "    <tr>\n",
       "      <th>3</th>\n",
       "      <td>male</td>\n",
       "      <td>group A</td>\n",
       "      <td>associate's degree</td>\n",
       "      <td>free/reduced</td>\n",
       "      <td>none</td>\n",
       "      <td>47</td>\n",
       "      <td>57</td>\n",
       "      <td>44</td>\n",
       "    </tr>\n",
       "    <tr>\n",
       "      <th>4</th>\n",
       "      <td>male</td>\n",
       "      <td>group C</td>\n",
       "      <td>some college</td>\n",
       "      <td>standard</td>\n",
       "      <td>none</td>\n",
       "      <td>76</td>\n",
       "      <td>78</td>\n",
       "      <td>75</td>\n",
       "    </tr>\n",
       "  </tbody>\n",
       "</table>\n",
       "</div>"
      ],
      "text/plain": [
       "   gender race/ethnicity parental level of education         lunch  \\\n",
       "0  female        group B           bachelor's degree      standard   \n",
       "1  female        group C                some college      standard   \n",
       "2  female        group B             master's degree      standard   \n",
       "3    male        group A          associate's degree  free/reduced   \n",
       "4    male        group C                some college      standard   \n",
       "\n",
       "  test preparation course  math score  reading score  writing score  \n",
       "0                    none          72             72             74  \n",
       "1               completed          69             90             88  \n",
       "2                    none          90             95             93  \n",
       "3                    none          47             57             44  \n",
       "4                    none          76             78             75  "
      ]
     },
     "execution_count": 8,
     "metadata": {},
     "output_type": "execute_result"
    }
   ],
   "source": [
    "import pandas as pd\n",
    "%matplotlib inline\n",
    "import matplotlib.pyplot as plt\n",
    "from sklearn.linear_model import LinearRegression\n",
    "from sklearn.model_selection import train_test_split\n",
    "df=pd.read_csv(\"StudentsPerformance.csv\")\n",
    "df.head()"
   ]
  },
  {
   "cell_type": "code",
   "execution_count": 4,
   "metadata": {},
   "outputs": [
    {
     "name": "stdout",
     "output_type": "stream",
     "text": [
      "<class 'pandas.core.frame.DataFrame'>\n",
      "RangeIndex: 1000 entries, 0 to 999\n",
      "Data columns (total 8 columns):\n",
      " #   Column                       Non-Null Count  Dtype \n",
      "---  ------                       --------------  ----- \n",
      " 0   gender                       1000 non-null   object\n",
      " 1   race/ethnicity               1000 non-null   object\n",
      " 2   parental level of education  1000 non-null   object\n",
      " 3   lunch                        1000 non-null   object\n",
      " 4   test preparation course      1000 non-null   object\n",
      " 5   math score                   1000 non-null   int64 \n",
      " 6   reading score                1000 non-null   int64 \n",
      " 7   writing score                1000 non-null   int64 \n",
      "dtypes: int64(3), object(5)\n",
      "memory usage: 62.6+ KB\n"
     ]
    }
   ],
   "source": [
    "df.info()"
   ]
  },
  {
   "cell_type": "code",
   "execution_count": 5,
   "metadata": {},
   "outputs": [
    {
     "data": {
      "text/html": [
       "<div>\n",
       "<style scoped>\n",
       "    .dataframe tbody tr th:only-of-type {\n",
       "        vertical-align: middle;\n",
       "    }\n",
       "\n",
       "    .dataframe tbody tr th {\n",
       "        vertical-align: top;\n",
       "    }\n",
       "\n",
       "    .dataframe thead th {\n",
       "        text-align: right;\n",
       "    }\n",
       "</style>\n",
       "<table border=\"1\" class=\"dataframe\">\n",
       "  <thead>\n",
       "    <tr style=\"text-align: right;\">\n",
       "      <th></th>\n",
       "      <th>math score</th>\n",
       "      <th>reading score</th>\n",
       "      <th>writing score</th>\n",
       "    </tr>\n",
       "  </thead>\n",
       "  <tbody>\n",
       "    <tr>\n",
       "      <th>count</th>\n",
       "      <td>1000.00000</td>\n",
       "      <td>1000.000000</td>\n",
       "      <td>1000.000000</td>\n",
       "    </tr>\n",
       "    <tr>\n",
       "      <th>mean</th>\n",
       "      <td>66.08900</td>\n",
       "      <td>69.169000</td>\n",
       "      <td>68.054000</td>\n",
       "    </tr>\n",
       "    <tr>\n",
       "      <th>std</th>\n",
       "      <td>15.16308</td>\n",
       "      <td>14.600192</td>\n",
       "      <td>15.195657</td>\n",
       "    </tr>\n",
       "    <tr>\n",
       "      <th>min</th>\n",
       "      <td>0.00000</td>\n",
       "      <td>17.000000</td>\n",
       "      <td>10.000000</td>\n",
       "    </tr>\n",
       "    <tr>\n",
       "      <th>25%</th>\n",
       "      <td>57.00000</td>\n",
       "      <td>59.000000</td>\n",
       "      <td>57.750000</td>\n",
       "    </tr>\n",
       "    <tr>\n",
       "      <th>50%</th>\n",
       "      <td>66.00000</td>\n",
       "      <td>70.000000</td>\n",
       "      <td>69.000000</td>\n",
       "    </tr>\n",
       "    <tr>\n",
       "      <th>75%</th>\n",
       "      <td>77.00000</td>\n",
       "      <td>79.000000</td>\n",
       "      <td>79.000000</td>\n",
       "    </tr>\n",
       "    <tr>\n",
       "      <th>max</th>\n",
       "      <td>100.00000</td>\n",
       "      <td>100.000000</td>\n",
       "      <td>100.000000</td>\n",
       "    </tr>\n",
       "  </tbody>\n",
       "</table>\n",
       "</div>"
      ],
      "text/plain": [
       "       math score  reading score  writing score\n",
       "count  1000.00000    1000.000000    1000.000000\n",
       "mean     66.08900      69.169000      68.054000\n",
       "std      15.16308      14.600192      15.195657\n",
       "min       0.00000      17.000000      10.000000\n",
       "25%      57.00000      59.000000      57.750000\n",
       "50%      66.00000      70.000000      69.000000\n",
       "75%      77.00000      79.000000      79.000000\n",
       "max     100.00000     100.000000     100.000000"
      ]
     },
     "execution_count": 5,
     "metadata": {},
     "output_type": "execute_result"
    }
   ],
   "source": [
    "df.describe()"
   ]
  },
  {
   "cell_type": "code",
   "execution_count": 10,
   "metadata": {},
   "outputs": [
    {
     "data": {
      "text/plain": [
       "Text(0.5, 1.0, 'student Data')"
      ]
     },
     "execution_count": 10,
     "metadata": {},
     "output_type": "execute_result"
    },
    {
     "data": {
      "image/png": "[encoded data removed]",
      "text/plain": [
       "<Figure size 432x288 with 1 Axes>"
      ]
     },
     "metadata": {
      "needs_background": "light"
     },
     "output_type": "display_data"
    }
   ],
   "source": [
    "X=df[\"reading score\"].values\n",
    "y=df[\"writing score\"].values\n",
    "\n",
    "\n",
    "plt.scatter(X,y)\n",
    "plt.xlabel(\"reading score\")\n",
    "plt.ylabel(\"writing score\")\n",
    "plt.title(\"student Data\")"
   ]
  },
  {
   "cell_type": "code",
   "execution_count": 11,
   "metadata": {},
   "outputs": [
    {
     "name": "stdout",
     "output_type": "stream",
     "text": [
      "x_train shape [(800, 1)\n",
      "y_train shape [(800, 1)\n",
      "x_test shape [(200, 1)\n",
      "y_test shape [(200, 1)\n"
     ]
    },
    {
     "data": {
      "text/plain": [
       "array([[ 60],\n",
       "       [ 58],\n",
       "       [ 66],\n",
       "       [ 39],\n",
       "       [ 51],\n",
       "       [ 80],\n",
       "       [ 83],\n",
       "       [ 62],\n",
       "       [ 85],\n",
       "       [ 63],\n",
       "       [ 88],\n",
       "       [ 73],\n",
       "       [ 84],\n",
       "       [ 78],\n",
       "       [ 51],\n",
       "       [ 45],\n",
       "       [ 60],\n",
       "       [ 65],\n",
       "       [ 66],\n",
       "       [ 51],\n",
       "       [ 87],\n",
       "       [ 86],\n",
       "       [ 74],\n",
       "       [ 56],\n",
       "       [ 85],\n",
       "       [ 74],\n",
       "       [ 76],\n",
       "       [ 74],\n",
       "       [ 90],\n",
       "       [ 90],\n",
       "       [ 75],\n",
       "       [ 70],\n",
       "       [ 56],\n",
       "       [ 75],\n",
       "       [ 61],\n",
       "       [ 66],\n",
       "       [ 72],\n",
       "       [ 96],\n",
       "       [ 92],\n",
       "       [ 67],\n",
       "       [ 88],\n",
       "       [ 89],\n",
       "       [ 85],\n",
       "       [ 82],\n",
       "       [ 58],\n",
       "       [ 95],\n",
       "       [ 97],\n",
       "       [ 63],\n",
       "       [ 65],\n",
       "       [ 71],\n",
       "       [ 67],\n",
       "       [ 86],\n",
       "       [ 83],\n",
       "       [ 76],\n",
       "       [ 65],\n",
       "       [ 65],\n",
       "       [ 63],\n",
       "       [ 77],\n",
       "       [ 79],\n",
       "       [ 74],\n",
       "       [ 39],\n",
       "       [ 95],\n",
       "       [ 49],\n",
       "       [ 71],\n",
       "       [ 67],\n",
       "       [ 65],\n",
       "       [ 45],\n",
       "       [ 60],\n",
       "       [ 52],\n",
       "       [ 46],\n",
       "       [ 70],\n",
       "       [ 87],\n",
       "       [ 87],\n",
       "       [ 56],\n",
       "       [ 80],\n",
       "       [ 61],\n",
       "       [ 93],\n",
       "       [ 62],\n",
       "       [ 80],\n",
       "       [ 54],\n",
       "       [ 66],\n",
       "       [ 56],\n",
       "       [ 73],\n",
       "       [ 65],\n",
       "       [ 71],\n",
       "       [ 74],\n",
       "       [ 47],\n",
       "       [ 78],\n",
       "       [ 58],\n",
       "       [ 88],\n",
       "       [100],\n",
       "       [100],\n",
       "       [ 92],\n",
       "       [ 69],\n",
       "       [ 62],\n",
       "       [ 66],\n",
       "       [ 79],\n",
       "       [ 74],\n",
       "       [ 42],\n",
       "       [ 54],\n",
       "       [ 64],\n",
       "       [ 84],\n",
       "       [ 80],\n",
       "       [ 78],\n",
       "       [ 82],\n",
       "       [ 92],\n",
       "       [ 81],\n",
       "       [ 66],\n",
       "       [ 84],\n",
       "       [ 54],\n",
       "       [ 43],\n",
       "       [ 81],\n",
       "       [ 71],\n",
       "       [ 75],\n",
       "       [ 59],\n",
       "       [ 60],\n",
       "       [ 73],\n",
       "       [ 70],\n",
       "       [ 58],\n",
       "       [100],\n",
       "       [ 73],\n",
       "       [ 75],\n",
       "       [ 56],\n",
       "       [ 90],\n",
       "       [ 24],\n",
       "       [ 89],\n",
       "       [100],\n",
       "       [ 87],\n",
       "       [ 58],\n",
       "       [ 63],\n",
       "       [ 82],\n",
       "       [ 83],\n",
       "       [ 73],\n",
       "       [ 63],\n",
       "       [ 73],\n",
       "       [ 85],\n",
       "       [ 74],\n",
       "       [ 53],\n",
       "       [ 67],\n",
       "       [ 84],\n",
       "       [ 70],\n",
       "       [ 87],\n",
       "       [ 90],\n",
       "       [ 80],\n",
       "       [ 46],\n",
       "       [ 91],\n",
       "       [100],\n",
       "       [ 54],\n",
       "       [ 76],\n",
       "       [ 93],\n",
       "       [ 71],\n",
       "       [ 60],\n",
       "       [ 55],\n",
       "       [ 53],\n",
       "       [ 46],\n",
       "       [ 59],\n",
       "       [ 70],\n",
       "       [ 64],\n",
       "       [ 70],\n",
       "       [ 95],\n",
       "       [ 71],\n",
       "       [ 81],\n",
       "       [ 86],\n",
       "       [ 90],\n",
       "       [ 78],\n",
       "       [ 70],\n",
       "       [ 93],\n",
       "       [ 59],\n",
       "       [ 82],\n",
       "       [ 62],\n",
       "       [ 54],\n",
       "       [ 53],\n",
       "       [ 54],\n",
       "       [ 72],\n",
       "       [ 84],\n",
       "       [ 51],\n",
       "       [ 51],\n",
       "       [ 76],\n",
       "       [ 69],\n",
       "       [ 86],\n",
       "       [ 90],\n",
       "       [ 58],\n",
       "       [ 71],\n",
       "       [ 76],\n",
       "       [ 64],\n",
       "       [ 67],\n",
       "       [ 63],\n",
       "       [ 57],\n",
       "       [ 73],\n",
       "       [ 74],\n",
       "       [ 72],\n",
       "       [ 84],\n",
       "       [ 71],\n",
       "       [ 85],\n",
       "       [ 75],\n",
       "       [ 66],\n",
       "       [ 65],\n",
       "       [ 89],\n",
       "       [ 70],\n",
       "       [ 76]])"
      ]
     },
     "execution_count": 11,
     "metadata": {},
     "output_type": "execute_result"
    }
   ],
   "source": [
    "X = X.reshape(-1,1)\n",
    "\n",
    "x_train, x_test, y_train, y_test = train_test_split(X, y, train_size=0.8, test_size=0.2, random_state=100)\n",
    "\n",
    "print(f\"x_train shape [{x_train.shape}\")\n",
    "print(f\"y_train shape [{x_train.shape}\")\n",
    "print(f\"x_test shape [{x_test.shape}\")\n",
    "print(f\"y_test shape [{x_test.shape}\")\n",
    "x_test"
   ]
  },
  {
   "cell_type": "code",
   "execution_count": 12,
   "metadata": {},
   "outputs": [
    {
     "data": {
      "text/plain": [
       "array([58.98722622, 56.99851125, 64.95337116, 38.10571895, 50.03800882,\n",
       "       78.874376  , 81.85744847, 60.9759412 , 83.84616345, 61.97029869,\n",
       "       86.82923591, 71.91387358, 82.85180596, 76.88566102, 50.03800882,\n",
       "       44.07186389, 58.98722622, 63.95901367, 64.95337116, 50.03800882,\n",
       "       85.83487842, 84.84052094, 72.90823107, 55.00979627, 83.84616345,\n",
       "       72.90823107, 74.89694605, 72.90823107, 88.81795089, 88.81795089,\n",
       "       73.90258856, 68.93080111, 55.00979627, 73.90258856, 59.98158371,\n",
       "       64.95337116, 70.91951609, 94.78409583, 90.80666587, 65.94772865,\n",
       "       86.82923591, 87.8235934 , 83.84616345, 80.86309098, 56.99851125,\n",
       "       93.78973834, 95.77845331, 61.97029869, 63.95901367, 69.9251586 ,\n",
       "       65.94772865, 84.84052094, 81.85744847, 74.89694605, 63.95901367,\n",
       "       63.95901367, 61.97029869, 75.89130354, 77.88001851, 72.90823107,\n",
       "       38.10571895, 93.78973834, 48.04929384, 69.9251586 , 65.94772865,\n",
       "       63.95901367, 44.07186389, 58.98722622, 51.03236631, 45.06622138,\n",
       "       68.93080111, 85.83487842, 85.83487842, 55.00979627, 78.874376  ,\n",
       "       59.98158371, 91.80102336, 60.9759412 , 78.874376  , 53.02108129,\n",
       "       64.95337116, 55.00979627, 71.91387358, 63.95901367, 69.9251586 ,\n",
       "       72.90823107, 46.06057887, 76.88566102, 56.99851125, 86.82923591,\n",
       "       98.76152578, 98.76152578, 90.80666587, 67.93644362, 60.9759412 ,\n",
       "       64.95337116, 77.88001851, 72.90823107, 41.08879142, 53.02108129,\n",
       "       62.96465618, 82.85180596, 78.874376  , 76.88566102, 80.86309098,\n",
       "       90.80666587, 79.86873349, 64.95337116, 82.85180596, 53.02108129,\n",
       "       42.08314891, 79.86873349, 69.9251586 , 73.90258856, 57.99286873,\n",
       "       58.98722622, 71.91387358, 68.93080111, 56.99851125, 98.76152578,\n",
       "       71.91387358, 73.90258856, 55.00979627, 88.81795089, 23.19035662,\n",
       "       87.8235934 , 98.76152578, 85.83487842, 56.99851125, 61.97029869,\n",
       "       80.86309098, 81.85744847, 71.91387358, 61.97029869, 71.91387358,\n",
       "       83.84616345, 72.90823107, 52.0267238 , 65.94772865, 82.85180596,\n",
       "       68.93080111, 85.83487842, 88.81795089, 78.874376  , 45.06622138,\n",
       "       89.81230838, 98.76152578, 53.02108129, 74.89694605, 91.80102336,\n",
       "       69.9251586 , 58.98722622, 54.01543878, 52.0267238 , 45.06622138,\n",
       "       57.99286873, 68.93080111, 62.96465618, 68.93080111, 93.78973834,\n",
       "       69.9251586 , 79.86873349, 84.84052094, 88.81795089, 76.88566102,\n",
       "       68.93080111, 91.80102336, 57.99286873, 80.86309098, 60.9759412 ,\n",
       "       53.02108129, 52.0267238 , 53.02108129, 70.91951609, 82.85180596,\n",
       "       50.03800882, 50.03800882, 74.89694605, 67.93644362, 84.84052094,\n",
       "       88.81795089, 56.99851125, 69.9251586 , 74.89694605, 62.96465618,\n",
       "       65.94772865, 61.97029869, 56.00415376, 71.91387358, 72.90823107,\n",
       "       70.91951609, 82.85180596, 69.9251586 , 83.84616345, 73.90258856,\n",
       "       64.95337116, 63.95901367, 87.8235934 , 68.93080111, 74.89694605])"
      ]
     },
     "execution_count": 12,
     "metadata": {},
     "output_type": "execute_result"
    }
   ],
   "source": [
    "lm = LinearRegression()\n",
    "lm.fit(x_train,y_train)\n",
    "\n",
    "y_predict = lm.predict(x_test)\n",
    "\n",
    "y_predict"
   ]
  },
  {
   "cell_type": "code",
   "execution_count": 13,
   "metadata": {},
   "outputs": [
    {
     "name": "stdout",
     "output_type": "stream",
     "text": [
      "Train accuracy 91.26%\n",
      "Test accuracy 100.0%\n"
     ]
    }
   ],
   "source": [
    "print(f\"Train accuracy {round(lm.score(x_train, y_train) * 100, 2)}%\")\n",
    "print(f\"Test accuracy {round(lm.score(x_test, y_predict) * 100, 2)}%\")"
   ]
  },
  {
   "cell_type": "code",
   "execution_count": 20,
   "metadata": {},
   "outputs": [
    {
     "data": {
      "text/plain": [
       "Text(0.5, 1.0, 'student Data')"
      ]
     },
     "execution_count": 20,
     "metadata": {},
     "output_type": "execute_result"
    },
    {
     "data": {
      "image/png": "[encoded data removed]",
      "text/plain": [
       "<Figure size 432x288 with 1 Axes>"
      ]
     },
     "metadata": {
      "needs_background": "light"
     },
     "output_type": "display_data"
    }
   ],
   "source": [
    "plt.scatter(x_train,y_train)\n",
    "plt.plot(x_test,y_predict,color=\"red\")\n",
    "plt.xlabel(\"reading score\")\n",
    "plt.ylabel(\"writing score\")\n",
    "plt.title(\"student Data\")"
   ]
  },
  {
   "cell_type": "code",
   "execution_count": 21,
   "metadata": {},
   "outputs": [
    {
     "data": {
      "text/plain": [
       "Text(0.5, 1.0, 'student Data')"
      ]
     },
     "execution_count": 21,
     "metadata": {},
     "output_type": "execute_result"
    },
    {
     "data": {
      "image/png": "[encoded data removed]",
      "text/plain": [
       "<Figure size 432x288 with 1 Axes>"
      ]
     },
     "metadata": {
      "needs_background": "light"
     },
     "output_type": "display_data"
    }
   ],
   "source": [
    "plt.scatter(x_test,y_test)\n",
    "plt.plot(x_test,y_predict,color=\"red\")\n",
    "plt.xlabel(\"reading score\")\n",
    "plt.ylabel(\"writing score\")\n",
    "plt.title(\"student Data\")"
   ]
  },
  {
   "cell_type": "code",
   "execution_count": 24,
   "metadata": {},
   "outputs": [
    {
     "data": {
      "text/plain": [
       "Text(0.5, 1.0, 'student Data')"
      ]
     },
     "execution_count": 24,
     "metadata": {},
     "output_type": "execute_result"
    },
    {
     "data": {
      "image/png": "[encoded data removed]",
      "text/plain": [
       "<Figure size 432x288 with 1 Axes>"
      ]
     },
     "metadata": {
      "needs_background": "light"
     },
     "output_type": "display_data"
    }
   ],
   "source": [
    "plt.scatter(x_test,y_test)\n",
    "plt.plot(y_test,y_predict,color=\"red\")\n",
    "plt.xlabel(\"reading score\")\n",
    "plt.ylabel(\"writing score\")\n",
    "plt.title(\"student Data\")"
   ]
  },
  {
   "cell_type": "code",
   "execution_count": null,
   "metadata": {},
   "outputs": [],
   "source": []
  }
 ],
 "metadata": {
  "interpreter": {
   "hash": "e27e011ce0dd16852fadc983c489bf69a99df79c316b58ea7d165cc016d85d95"
  },
  "kernelspec": {
   "display_name": "Python 3.8.10 64-bit ('.venv': poetry)",
   "name": "python3"
  },
  "language_info": {
   "codemirror_mode": {
    "name": "ipython",
    "version": 3
   },
   "file_extension": ".py",
   "mimetype": "text/x-python",
   "name": "python",
   "nbconvert_exporter": "python",
   "pygments_lexer": "ipython3",
   "version": "3.8.10"
  },
  "orig_nbformat": 4
 },
 "nbformat": 4,
 "nbformat_minor": 2
}
